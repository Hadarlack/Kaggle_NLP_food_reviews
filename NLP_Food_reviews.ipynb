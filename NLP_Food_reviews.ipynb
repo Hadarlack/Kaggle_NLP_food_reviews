{
  "nbformat": 4,
  "nbformat_minor": 0,
  "metadata": {
    "colab": {
      "name": "NLP_Food_reviews.ipynb",
      "provenance": [],
      "collapsed_sections": [],
      "include_colab_link": true
    },
    "kernelspec": {
      "name": "python3",
      "display_name": "Python 3"
    },
    "accelerator": "GPU"
  },
  "cells": [
    {
      "cell_type": "markdown",
      "metadata": {
        "id": "view-in-github",
        "colab_type": "text"
      },
      "source": [
        "<a href=\"https://colab.research.google.com/github/Hadarlack/Kaggle_NLP_food_reviews/blob/master/NLP_Food_reviews.ipynb\" target=\"_parent\"><img src=\"https://colab.research.google.com/assets/colab-badge.svg\" alt=\"Open In Colab\"/></a>"
      ]
    },
    {
      "cell_type": "code",
      "metadata": {
        "id": "eu422kncw99s",
        "colab_type": "code",
        "colab": {}
      },
      "source": [
        "import warnings\n",
        "warnings.filterwarnings(\"ignore\")                     #Ignoring unnecessory warnings\n",
        "\n",
        "import numpy as np                                  #for large and multi-dimensional arrays\n",
        "import pandas as pd                                 #for data manipulation and analysis\n",
        "import nltk                                         #Natural language processing tool-kit\n",
        "\n",
        "from nltk.corpus import stopwords                   #Stopwords corpus\n",
        "from nltk.stem import PorterStemmer                 # Stemmer\n",
        "\n",
        "from sklearn.feature_extraction.text import CountVectorizer          #For Bag of words\n",
        "from sklearn.feature_extraction.text import TfidfVectorizer          #For TF-IDF\n",
        "from gensim.models import Word2Vec                                   #For Word2Vec"
      ],
      "execution_count": 0,
      "outputs": []
    },
    {
      "cell_type": "code",
      "metadata": {
        "id": "jtEEvtyq0VL_",
        "colab_type": "code",
        "colab": {}
      },
      "source": [
        "from google.colab import files\n",
        "\n",
        "file=files.upload()\n",
        "data=pd.read_csv(\"Reviews.csv\")\n",
        "data.Summary=data.Summary.astype(str)\n",
        "\n",
        "#data_sel = data.head(10000)                                #Considering only top 10000 rows"
      ],
      "execution_count": 0,
      "outputs": []
    },
    {
      "cell_type": "code",
      "metadata": {
        "id": "VuArcMFu10SB",
        "colab_type": "code",
        "colab": {
          "base_uri": "https://localhost:8080/",
          "height": 72
        },
        "outputId": "e996be56-b497-490b-db55-a62a1d0f5f67"
      },
      "source": [
        "# Shape of our data\n",
        "data.columns"
      ],
      "execution_count": 134,
      "outputs": [
        {
          "output_type": "execute_result",
          "data": {
            "text/plain": [
              "Index(['Id', 'ProductId', 'UserId', 'ProfileName', 'HelpfulnessNumerator',\n",
              "       'HelpfulnessDenominator', 'Score', 'Time', 'Summary', 'Text'],\n",
              "      dtype='object')"
            ]
          },
          "metadata": {
            "tags": []
          },
          "execution_count": 134
        }
      ]
    },
    {
      "cell_type": "code",
      "metadata": {
        "id": "Kv_2-ccU13au",
        "colab_type": "code",
        "colab": {
          "base_uri": "https://localhost:8080/",
          "height": 35
        },
        "outputId": "656bdd7e-9794-420f-a50e-4995922c78b3"
      },
      "source": [
        "data.shape"
      ],
      "execution_count": 135,
      "outputs": [
        {
          "output_type": "execute_result",
          "data": {
            "text/plain": [
              "(568454, 10)"
            ]
          },
          "metadata": {
            "tags": []
          },
          "execution_count": 135
        }
      ]
    },
    {
      "cell_type": "code",
      "metadata": {
        "id": "td9yOFCA0E5q",
        "colab_type": "code",
        "colab": {
          "base_uri": "https://localhost:8080/",
          "height": 1000
        },
        "outputId": "d1ee3d3b-3f6a-4d5c-8530-0860b3eb5098"
      },
      "source": [
        "data.head(20)"
      ],
      "execution_count": 136,
      "outputs": [
        {
          "output_type": "execute_result",
          "data": {
            "text/html": [
              "<div>\n",
              "<style scoped>\n",
              "    .dataframe tbody tr th:only-of-type {\n",
              "        vertical-align: middle;\n",
              "    }\n",
              "\n",
              "    .dataframe tbody tr th {\n",
              "        vertical-align: top;\n",
              "    }\n",
              "\n",
              "    .dataframe thead th {\n",
              "        text-align: right;\n",
              "    }\n",
              "</style>\n",
              "<table border=\"1\" class=\"dataframe\">\n",
              "  <thead>\n",
              "    <tr style=\"text-align: right;\">\n",
              "      <th></th>\n",
              "      <th>Id</th>\n",
              "      <th>ProductId</th>\n",
              "      <th>UserId</th>\n",
              "      <th>ProfileName</th>\n",
              "      <th>HelpfulnessNumerator</th>\n",
              "      <th>HelpfulnessDenominator</th>\n",
              "      <th>Score</th>\n",
              "      <th>Time</th>\n",
              "      <th>Summary</th>\n",
              "      <th>Text</th>\n",
              "    </tr>\n",
              "  </thead>\n",
              "  <tbody>\n",
              "    <tr>\n",
              "      <th>0</th>\n",
              "      <td>1</td>\n",
              "      <td>B001E4KFG0</td>\n",
              "      <td>A3SGXH7AUHU8GW</td>\n",
              "      <td>delmartian</td>\n",
              "      <td>1</td>\n",
              "      <td>1</td>\n",
              "      <td>5</td>\n",
              "      <td>1303862400</td>\n",
              "      <td>Good Quality Dog Food</td>\n",
              "      <td>I have bought several of the Vitality canned d...</td>\n",
              "    </tr>\n",
              "    <tr>\n",
              "      <th>1</th>\n",
              "      <td>2</td>\n",
              "      <td>B00813GRG4</td>\n",
              "      <td>A1D87F6ZCVE5NK</td>\n",
              "      <td>dll pa</td>\n",
              "      <td>0</td>\n",
              "      <td>0</td>\n",
              "      <td>1</td>\n",
              "      <td>1346976000</td>\n",
              "      <td>Not as Advertised</td>\n",
              "      <td>Product arrived labeled as Jumbo Salted Peanut...</td>\n",
              "    </tr>\n",
              "    <tr>\n",
              "      <th>2</th>\n",
              "      <td>3</td>\n",
              "      <td>B000LQOCH0</td>\n",
              "      <td>ABXLMWJIXXAIN</td>\n",
              "      <td>Natalia Corres \"Natalia Corres\"</td>\n",
              "      <td>1</td>\n",
              "      <td>1</td>\n",
              "      <td>4</td>\n",
              "      <td>1219017600</td>\n",
              "      <td>\"Delight\" says it all</td>\n",
              "      <td>This is a confection that has been around a fe...</td>\n",
              "    </tr>\n",
              "    <tr>\n",
              "      <th>3</th>\n",
              "      <td>4</td>\n",
              "      <td>B000UA0QIQ</td>\n",
              "      <td>A395BORC6FGVXV</td>\n",
              "      <td>Karl</td>\n",
              "      <td>3</td>\n",
              "      <td>3</td>\n",
              "      <td>2</td>\n",
              "      <td>1307923200</td>\n",
              "      <td>Cough Medicine</td>\n",
              "      <td>If you are looking for the secret ingredient i...</td>\n",
              "    </tr>\n",
              "    <tr>\n",
              "      <th>4</th>\n",
              "      <td>5</td>\n",
              "      <td>B006K2ZZ7K</td>\n",
              "      <td>A1UQRSCLF8GW1T</td>\n",
              "      <td>Michael D. Bigham \"M. Wassir\"</td>\n",
              "      <td>0</td>\n",
              "      <td>0</td>\n",
              "      <td>5</td>\n",
              "      <td>1350777600</td>\n",
              "      <td>Great taffy</td>\n",
              "      <td>Great taffy at a great price.  There was a wid...</td>\n",
              "    </tr>\n",
              "    <tr>\n",
              "      <th>5</th>\n",
              "      <td>6</td>\n",
              "      <td>B006K2ZZ7K</td>\n",
              "      <td>ADT0SRK1MGOEU</td>\n",
              "      <td>Twoapennything</td>\n",
              "      <td>0</td>\n",
              "      <td>0</td>\n",
              "      <td>4</td>\n",
              "      <td>1342051200</td>\n",
              "      <td>Nice Taffy</td>\n",
              "      <td>I got a wild hair for taffy and ordered this f...</td>\n",
              "    </tr>\n",
              "    <tr>\n",
              "      <th>6</th>\n",
              "      <td>7</td>\n",
              "      <td>B006K2ZZ7K</td>\n",
              "      <td>A1SP2KVKFXXRU1</td>\n",
              "      <td>David C. Sullivan</td>\n",
              "      <td>0</td>\n",
              "      <td>0</td>\n",
              "      <td>5</td>\n",
              "      <td>1340150400</td>\n",
              "      <td>Great!  Just as good as the expensive brands!</td>\n",
              "      <td>This saltwater taffy had great flavors and was...</td>\n",
              "    </tr>\n",
              "    <tr>\n",
              "      <th>7</th>\n",
              "      <td>8</td>\n",
              "      <td>B006K2ZZ7K</td>\n",
              "      <td>A3JRGQVEQN31IQ</td>\n",
              "      <td>Pamela G. Williams</td>\n",
              "      <td>0</td>\n",
              "      <td>0</td>\n",
              "      <td>5</td>\n",
              "      <td>1336003200</td>\n",
              "      <td>Wonderful, tasty taffy</td>\n",
              "      <td>This taffy is so good.  It is very soft and ch...</td>\n",
              "    </tr>\n",
              "    <tr>\n",
              "      <th>8</th>\n",
              "      <td>9</td>\n",
              "      <td>B000E7L2R4</td>\n",
              "      <td>A1MZYO9TZK0BBI</td>\n",
              "      <td>R. James</td>\n",
              "      <td>1</td>\n",
              "      <td>1</td>\n",
              "      <td>5</td>\n",
              "      <td>1322006400</td>\n",
              "      <td>Yay Barley</td>\n",
              "      <td>Right now I'm mostly just sprouting this so my...</td>\n",
              "    </tr>\n",
              "    <tr>\n",
              "      <th>9</th>\n",
              "      <td>10</td>\n",
              "      <td>B00171APVA</td>\n",
              "      <td>A21BT40VZCCYT4</td>\n",
              "      <td>Carol A. Reed</td>\n",
              "      <td>0</td>\n",
              "      <td>0</td>\n",
              "      <td>5</td>\n",
              "      <td>1351209600</td>\n",
              "      <td>Healthy Dog Food</td>\n",
              "      <td>This is a very healthy dog food. Good for thei...</td>\n",
              "    </tr>\n",
              "    <tr>\n",
              "      <th>10</th>\n",
              "      <td>11</td>\n",
              "      <td>B0001PB9FE</td>\n",
              "      <td>A3HDKO7OW0QNK4</td>\n",
              "      <td>Canadian Fan</td>\n",
              "      <td>1</td>\n",
              "      <td>1</td>\n",
              "      <td>5</td>\n",
              "      <td>1107820800</td>\n",
              "      <td>The Best Hot Sauce in the World</td>\n",
              "      <td>I don't know if it's the cactus or the tequila...</td>\n",
              "    </tr>\n",
              "    <tr>\n",
              "      <th>11</th>\n",
              "      <td>12</td>\n",
              "      <td>B0009XLVG0</td>\n",
              "      <td>A2725IB4YY9JEB</td>\n",
              "      <td>A Poeng \"SparkyGoHome\"</td>\n",
              "      <td>4</td>\n",
              "      <td>4</td>\n",
              "      <td>5</td>\n",
              "      <td>1282867200</td>\n",
              "      <td>My cats LOVE this \"diet\" food better than thei...</td>\n",
              "      <td>One of my boys needed to lose some weight and ...</td>\n",
              "    </tr>\n",
              "    <tr>\n",
              "      <th>12</th>\n",
              "      <td>13</td>\n",
              "      <td>B0009XLVG0</td>\n",
              "      <td>A327PCT23YH90</td>\n",
              "      <td>LT</td>\n",
              "      <td>1</td>\n",
              "      <td>1</td>\n",
              "      <td>1</td>\n",
              "      <td>1339545600</td>\n",
              "      <td>My Cats Are Not Fans of the New Food</td>\n",
              "      <td>My cats have been happily eating Felidae Plati...</td>\n",
              "    </tr>\n",
              "    <tr>\n",
              "      <th>13</th>\n",
              "      <td>14</td>\n",
              "      <td>B001GVISJM</td>\n",
              "      <td>A18ECVX2RJ7HUE</td>\n",
              "      <td>willie \"roadie\"</td>\n",
              "      <td>2</td>\n",
              "      <td>2</td>\n",
              "      <td>4</td>\n",
              "      <td>1288915200</td>\n",
              "      <td>fresh and greasy!</td>\n",
              "      <td>good flavor! these came securely packed... the...</td>\n",
              "    </tr>\n",
              "    <tr>\n",
              "      <th>14</th>\n",
              "      <td>15</td>\n",
              "      <td>B001GVISJM</td>\n",
              "      <td>A2MUGFV2TDQ47K</td>\n",
              "      <td>Lynrie \"Oh HELL no\"</td>\n",
              "      <td>4</td>\n",
              "      <td>5</td>\n",
              "      <td>5</td>\n",
              "      <td>1268352000</td>\n",
              "      <td>Strawberry Twizzlers - Yummy</td>\n",
              "      <td>The Strawberry Twizzlers are my guilty pleasur...</td>\n",
              "    </tr>\n",
              "    <tr>\n",
              "      <th>15</th>\n",
              "      <td>16</td>\n",
              "      <td>B001GVISJM</td>\n",
              "      <td>A1CZX3CP8IKQIJ</td>\n",
              "      <td>Brian A. Lee</td>\n",
              "      <td>4</td>\n",
              "      <td>5</td>\n",
              "      <td>5</td>\n",
              "      <td>1262044800</td>\n",
              "      <td>Lots of twizzlers, just what you expect.</td>\n",
              "      <td>My daughter loves twizzlers and this shipment ...</td>\n",
              "    </tr>\n",
              "    <tr>\n",
              "      <th>16</th>\n",
              "      <td>17</td>\n",
              "      <td>B001GVISJM</td>\n",
              "      <td>A3KLWF6WQ5BNYO</td>\n",
              "      <td>Erica Neathery</td>\n",
              "      <td>0</td>\n",
              "      <td>0</td>\n",
              "      <td>2</td>\n",
              "      <td>1348099200</td>\n",
              "      <td>poor taste</td>\n",
              "      <td>I love eating them and they are good for watch...</td>\n",
              "    </tr>\n",
              "    <tr>\n",
              "      <th>17</th>\n",
              "      <td>18</td>\n",
              "      <td>B001GVISJM</td>\n",
              "      <td>AFKW14U97Z6QO</td>\n",
              "      <td>Becca</td>\n",
              "      <td>0</td>\n",
              "      <td>0</td>\n",
              "      <td>5</td>\n",
              "      <td>1345075200</td>\n",
              "      <td>Love it!</td>\n",
              "      <td>I am very satisfied with my Twizzler purchase....</td>\n",
              "    </tr>\n",
              "    <tr>\n",
              "      <th>18</th>\n",
              "      <td>19</td>\n",
              "      <td>B001GVISJM</td>\n",
              "      <td>A2A9X58G2GTBLP</td>\n",
              "      <td>Wolfee1</td>\n",
              "      <td>0</td>\n",
              "      <td>0</td>\n",
              "      <td>5</td>\n",
              "      <td>1324598400</td>\n",
              "      <td>GREAT SWEET CANDY!</td>\n",
              "      <td>Twizzlers, Strawberry my childhood favorite ca...</td>\n",
              "    </tr>\n",
              "    <tr>\n",
              "      <th>19</th>\n",
              "      <td>20</td>\n",
              "      <td>B001GVISJM</td>\n",
              "      <td>A3IV7CL2C13K2U</td>\n",
              "      <td>Greg</td>\n",
              "      <td>0</td>\n",
              "      <td>0</td>\n",
              "      <td>5</td>\n",
              "      <td>1318032000</td>\n",
              "      <td>Home delivered twizlers</td>\n",
              "      <td>Candy was delivered very fast and was purchase...</td>\n",
              "    </tr>\n",
              "  </tbody>\n",
              "</table>\n",
              "</div>"
            ],
            "text/plain": [
              "    Id  ...                                               Text\n",
              "0    1  ...  I have bought several of the Vitality canned d...\n",
              "1    2  ...  Product arrived labeled as Jumbo Salted Peanut...\n",
              "2    3  ...  This is a confection that has been around a fe...\n",
              "3    4  ...  If you are looking for the secret ingredient i...\n",
              "4    5  ...  Great taffy at a great price.  There was a wid...\n",
              "5    6  ...  I got a wild hair for taffy and ordered this f...\n",
              "6    7  ...  This saltwater taffy had great flavors and was...\n",
              "7    8  ...  This taffy is so good.  It is very soft and ch...\n",
              "8    9  ...  Right now I'm mostly just sprouting this so my...\n",
              "9   10  ...  This is a very healthy dog food. Good for thei...\n",
              "10  11  ...  I don't know if it's the cactus or the tequila...\n",
              "11  12  ...  One of my boys needed to lose some weight and ...\n",
              "12  13  ...  My cats have been happily eating Felidae Plati...\n",
              "13  14  ...  good flavor! these came securely packed... the...\n",
              "14  15  ...  The Strawberry Twizzlers are my guilty pleasur...\n",
              "15  16  ...  My daughter loves twizzlers and this shipment ...\n",
              "16  17  ...  I love eating them and they are good for watch...\n",
              "17  18  ...  I am very satisfied with my Twizzler purchase....\n",
              "18  19  ...  Twizzlers, Strawberry my childhood favorite ca...\n",
              "19  20  ...  Candy was delivered very fast and was purchase...\n",
              "\n",
              "[20 rows x 10 columns]"
            ]
          },
          "metadata": {
            "tags": []
          },
          "execution_count": 136
        }
      ]
    },
    {
      "cell_type": "markdown",
      "metadata": {
        "id": "J8u6WxtA37BO",
        "colab_type": "text"
      },
      "source": [
        "Looks like our main objective from the dataset is to predict whether a review is **Positive** or **Negative** based on the Text/Summary.\n",
        " \n",
        "The Score column has values of 1,2,3,4,5.  Considering 1,2 as Negative reviews and 4,5 as Positive reviews. For Score = 3 I will consider it as Neutral review. I delete the rows that are neutral, so that we can predict either Positive or Negative.\n",
        " \n",
        "HelpfulnessNumerator indicates the number of people that found the review usefull. HelpfulnessDenominator is usefull review count + not so usefull count. So, from this we can see that HelpfulnessNumerator is always less than or equal to HelpfulnesDenominator."
      ]
    },
    {
      "cell_type": "code",
      "metadata": {
        "id": "rgR0buAx37-d",
        "colab_type": "code",
        "colab": {}
      },
      "source": [
        "data_score_removed = data[data['Score']!=3]       #Neutral reviews removed"
      ],
      "execution_count": 0,
      "outputs": []
    },
    {
      "cell_type": "code",
      "metadata": {
        "id": "u5JLC6QDKnTt",
        "colab_type": "code",
        "colab": {
          "base_uri": "https://localhost:8080/",
          "height": 685
        },
        "outputId": "a9868ac1-3fe1-4341-be74-e3f4bc882487"
      },
      "source": [
        "data_score_removed[\"Usefulness\"] = (data_score_removed[\"HelpfulnessNumerator\"]/data_score_removed[\"HelpfulnessDenominator\"]).apply(lambda n: \"useful\" if n > 0.8 else \"useless\")\n",
        "# we can try to predict this feature also later\n",
        "\n",
        "\n",
        "data_score_removed.head(5)"
      ],
      "execution_count": 138,
      "outputs": [
        {
          "output_type": "execute_result",
          "data": {
            "text/html": [
              "<div>\n",
              "<style scoped>\n",
              "    .dataframe tbody tr th:only-of-type {\n",
              "        vertical-align: middle;\n",
              "    }\n",
              "\n",
              "    .dataframe tbody tr th {\n",
              "        vertical-align: top;\n",
              "    }\n",
              "\n",
              "    .dataframe thead th {\n",
              "        text-align: right;\n",
              "    }\n",
              "</style>\n",
              "<table border=\"1\" class=\"dataframe\">\n",
              "  <thead>\n",
              "    <tr style=\"text-align: right;\">\n",
              "      <th></th>\n",
              "      <th>Id</th>\n",
              "      <th>ProductId</th>\n",
              "      <th>UserId</th>\n",
              "      <th>ProfileName</th>\n",
              "      <th>HelpfulnessNumerator</th>\n",
              "      <th>HelpfulnessDenominator</th>\n",
              "      <th>Score</th>\n",
              "      <th>Time</th>\n",
              "      <th>Summary</th>\n",
              "      <th>Text</th>\n",
              "      <th>Usefulness</th>\n",
              "    </tr>\n",
              "  </thead>\n",
              "  <tbody>\n",
              "    <tr>\n",
              "      <th>0</th>\n",
              "      <td>1</td>\n",
              "      <td>B001E4KFG0</td>\n",
              "      <td>A3SGXH7AUHU8GW</td>\n",
              "      <td>delmartian</td>\n",
              "      <td>1</td>\n",
              "      <td>1</td>\n",
              "      <td>5</td>\n",
              "      <td>1303862400</td>\n",
              "      <td>Good Quality Dog Food</td>\n",
              "      <td>I have bought several of the Vitality canned d...</td>\n",
              "      <td>useful</td>\n",
              "    </tr>\n",
              "    <tr>\n",
              "      <th>1</th>\n",
              "      <td>2</td>\n",
              "      <td>B00813GRG4</td>\n",
              "      <td>A1D87F6ZCVE5NK</td>\n",
              "      <td>dll pa</td>\n",
              "      <td>0</td>\n",
              "      <td>0</td>\n",
              "      <td>1</td>\n",
              "      <td>1346976000</td>\n",
              "      <td>Not as Advertised</td>\n",
              "      <td>Product arrived labeled as Jumbo Salted Peanut...</td>\n",
              "      <td>useless</td>\n",
              "    </tr>\n",
              "    <tr>\n",
              "      <th>2</th>\n",
              "      <td>3</td>\n",
              "      <td>B000LQOCH0</td>\n",
              "      <td>ABXLMWJIXXAIN</td>\n",
              "      <td>Natalia Corres \"Natalia Corres\"</td>\n",
              "      <td>1</td>\n",
              "      <td>1</td>\n",
              "      <td>4</td>\n",
              "      <td>1219017600</td>\n",
              "      <td>\"Delight\" says it all</td>\n",
              "      <td>This is a confection that has been around a fe...</td>\n",
              "      <td>useful</td>\n",
              "    </tr>\n",
              "    <tr>\n",
              "      <th>3</th>\n",
              "      <td>4</td>\n",
              "      <td>B000UA0QIQ</td>\n",
              "      <td>A395BORC6FGVXV</td>\n",
              "      <td>Karl</td>\n",
              "      <td>3</td>\n",
              "      <td>3</td>\n",
              "      <td>2</td>\n",
              "      <td>1307923200</td>\n",
              "      <td>Cough Medicine</td>\n",
              "      <td>If you are looking for the secret ingredient i...</td>\n",
              "      <td>useful</td>\n",
              "    </tr>\n",
              "    <tr>\n",
              "      <th>4</th>\n",
              "      <td>5</td>\n",
              "      <td>B006K2ZZ7K</td>\n",
              "      <td>A1UQRSCLF8GW1T</td>\n",
              "      <td>Michael D. Bigham \"M. Wassir\"</td>\n",
              "      <td>0</td>\n",
              "      <td>0</td>\n",
              "      <td>5</td>\n",
              "      <td>1350777600</td>\n",
              "      <td>Great taffy</td>\n",
              "      <td>Great taffy at a great price.  There was a wid...</td>\n",
              "      <td>useless</td>\n",
              "    </tr>\n",
              "  </tbody>\n",
              "</table>\n",
              "</div>"
            ],
            "text/plain": [
              "   Id   ProductId  ...                                               Text Usefulness\n",
              "0   1  B001E4KFG0  ...  I have bought several of the Vitality canned d...     useful\n",
              "1   2  B00813GRG4  ...  Product arrived labeled as Jumbo Salted Peanut...    useless\n",
              "2   3  B000LQOCH0  ...  This is a confection that has been around a fe...     useful\n",
              "3   4  B000UA0QIQ  ...  If you are looking for the secret ingredient i...     useful\n",
              "4   5  B006K2ZZ7K  ...  Great taffy at a great price.  There was a wid...    useless\n",
              "\n",
              "[5 rows x 11 columns]"
            ]
          },
          "metadata": {
            "tags": []
          },
          "execution_count": 138
        }
      ]
    },
    {
      "cell_type": "markdown",
      "metadata": {
        "id": "rvQInw0K4PEg",
        "colab_type": "text"
      },
      "source": [
        "Converting Score values into class label either Posituve or Negative."
      ]
    },
    {
      "cell_type": "code",
      "metadata": {
        "id": "A0X0H4jp4Lrf",
        "colab_type": "code",
        "colab": {
          "base_uri": "https://localhost:8080/",
          "height": 1000
        },
        "outputId": "b6c0a99e-217b-4aae-93c5-4003df37bf0c"
      },
      "source": [
        "def partition(x):\n",
        "    if x < 3:\n",
        "        return 'positive'\n",
        "    return 'negative'\n",
        "\n",
        "\n",
        "\n",
        "score_upd = data_score_removed['Score']\n",
        "data_score_removed['Score']=score_upd.map(partition)\n",
        "\n",
        "data_score_removed['Score']"
      ],
      "execution_count": 139,
      "outputs": [
        {
          "output_type": "execute_result",
          "data": {
            "text/plain": [
              "0         negative\n",
              "1         positive\n",
              "2         negative\n",
              "3         positive\n",
              "4         negative\n",
              "5         negative\n",
              "6         negative\n",
              "7         negative\n",
              "8         negative\n",
              "9         negative\n",
              "10        negative\n",
              "11        negative\n",
              "12        positive\n",
              "13        negative\n",
              "14        negative\n",
              "15        negative\n",
              "16        positive\n",
              "17        negative\n",
              "18        negative\n",
              "19        negative\n",
              "20        negative\n",
              "21        negative\n",
              "22        negative\n",
              "23        negative\n",
              "24        negative\n",
              "25        negative\n",
              "26        positive\n",
              "27        negative\n",
              "28        negative\n",
              "29        negative\n",
              "            ...   \n",
              "568424    negative\n",
              "568425    negative\n",
              "568426    positive\n",
              "568427    negative\n",
              "568428    negative\n",
              "568429    negative\n",
              "568430    negative\n",
              "568431    positive\n",
              "568432    positive\n",
              "568433    positive\n",
              "568434    positive\n",
              "568435    positive\n",
              "568436    negative\n",
              "568437    negative\n",
              "568438    negative\n",
              "568439    negative\n",
              "568440    negative\n",
              "568441    negative\n",
              "568442    negative\n",
              "568443    negative\n",
              "568444    negative\n",
              "568445    negative\n",
              "568446    positive\n",
              "568447    negative\n",
              "568448    negative\n",
              "568449    negative\n",
              "568450    positive\n",
              "568451    negative\n",
              "568452    negative\n",
              "568453    negative\n",
              "Name: Score, Length: 525814, dtype: object"
            ]
          },
          "metadata": {
            "tags": []
          },
          "execution_count": 139
        }
      ]
    },
    {
      "cell_type": "markdown",
      "metadata": {
        "id": "oKBqnRpu6TBF",
        "colab_type": "text"
      },
      "source": [
        "**Deduplication** in order to get unbaised results. Checking duplicates based on UserId, ProfileName, Time, Text. If all these values are equal then we will remove those records. (No user can type a review on same exact time for different products.)\n",
        "\n",
        "+ checking that HelpfulnessNumerator is always less than or equal to HelpfulnessDenominator, and removing those records also."
      ]
    },
    {
      "cell_type": "code",
      "metadata": {
        "id": "s2k0V_FL6Si5",
        "colab_type": "code",
        "colab": {}
      },
      "source": [
        "final_data = data_score_removed.drop_duplicates(subset={\"UserId\",\"ProfileName\",\"Time\",\"Text\"})"
      ],
      "execution_count": 0,
      "outputs": []
    },
    {
      "cell_type": "code",
      "metadata": {
        "id": "E9Z-2C_y7KMU",
        "colab_type": "code",
        "colab": {
          "base_uri": "https://localhost:8080/",
          "height": 35
        },
        "outputId": "0eda36b8-a71e-4278-a9d0-d4b420ec0cae"
      },
      "source": [
        "final_data.shape"
      ],
      "execution_count": 141,
      "outputs": [
        {
          "output_type": "execute_result",
          "data": {
            "text/plain": [
              "(364173, 11)"
            ]
          },
          "metadata": {
            "tags": []
          },
          "execution_count": 141
        }
      ]
    },
    {
      "cell_type": "code",
      "metadata": {
        "id": "EUOIemfN7DTE",
        "colab_type": "code",
        "colab": {}
      },
      "source": [
        "final = final_data[final_data['HelpfulnessNumerator'] <= final_data['HelpfulnessDenominator']]"
      ],
      "execution_count": 0,
      "outputs": []
    },
    {
      "cell_type": "code",
      "metadata": {
        "id": "Yqg8WRty7Ik6",
        "colab_type": "code",
        "colab": {
          "base_uri": "https://localhost:8080/",
          "height": 35
        },
        "outputId": "e29a3d83-2683-4e5b-b354-af05df83b79c"
      },
      "source": [
        "final.shape"
      ],
      "execution_count": 143,
      "outputs": [
        {
          "output_type": "execute_result",
          "data": {
            "text/plain": [
              "(364171, 11)"
            ]
          },
          "metadata": {
            "tags": []
          },
          "execution_count": 143
        }
      ]
    },
    {
      "cell_type": "code",
      "metadata": {
        "id": "ZyY2txNo7OG2",
        "colab_type": "code",
        "colab": {}
      },
      "source": [
        "Summary = final['Summary']\n",
        "Score = final['Score']\n",
        "\n",
        "#spliting to train and test\n",
        "from sklearn.model_selection import train_test_split\n",
        "X_train, X_test, y_train, y_test = train_test_split(Summary, Score, test_size=0.2, random_state=42)"
      ],
      "execution_count": 0,
      "outputs": []
    },
    {
      "cell_type": "code",
      "metadata": {
        "id": "xzJi-Hem8Q3N",
        "colab_type": "code",
        "colab": {
          "base_uri": "https://localhost:8080/",
          "height": 35
        },
        "outputId": "37b408cd-e950-4034-88d0-76b1ae289609"
      },
      "source": [
        "X_train.shape"
      ],
      "execution_count": 145,
      "outputs": [
        {
          "output_type": "execute_result",
          "data": {
            "text/plain": [
              "(291336,)"
            ]
          },
          "metadata": {
            "tags": []
          },
          "execution_count": 145
        }
      ]
    },
    {
      "cell_type": "code",
      "metadata": {
        "id": "zst7Vv3_8TXU",
        "colab_type": "code",
        "colab": {
          "base_uri": "https://localhost:8080/",
          "height": 35
        },
        "outputId": "cb6ee38a-fb61-4cb8-8eab-e58355f0c9c5"
      },
      "source": [
        "X_test.shape"
      ],
      "execution_count": 146,
      "outputs": [
        {
          "output_type": "execute_result",
          "data": {
            "text/plain": [
              "(72835,)"
            ]
          },
          "metadata": {
            "tags": []
          },
          "execution_count": 146
        }
      ]
    },
    {
      "cell_type": "code",
      "metadata": {
        "id": "rElED1CL8Uzh",
        "colab_type": "code",
        "colab": {
          "base_uri": "https://localhost:8080/",
          "height": 35
        },
        "outputId": "54dbc360-9bd2-47f6-817f-3aa07b691896"
      },
      "source": [
        "y_train.shape"
      ],
      "execution_count": 147,
      "outputs": [
        {
          "output_type": "execute_result",
          "data": {
            "text/plain": [
              "(291336,)"
            ]
          },
          "metadata": {
            "tags": []
          },
          "execution_count": 147
        }
      ]
    },
    {
      "cell_type": "code",
      "metadata": {
        "id": "L91j7AxL8WF2",
        "colab_type": "code",
        "colab": {
          "base_uri": "https://localhost:8080/",
          "height": 35
        },
        "outputId": "ea3b885e-6846-4766-f9ba-4659ade254c6"
      },
      "source": [
        "y_test.shape"
      ],
      "execution_count": 148,
      "outputs": [
        {
          "output_type": "execute_result",
          "data": {
            "text/plain": [
              "(72835,)"
            ]
          },
          "metadata": {
            "tags": []
          },
          "execution_count": 148
        }
      ]
    },
    {
      "cell_type": "code",
      "metadata": {
        "id": "HPxgbClf8ymY",
        "colab_type": "code",
        "colab": {
          "base_uri": "https://localhost:8080/",
          "height": 35
        },
        "outputId": "daeb6009-ea04-416f-a3bf-8c4534ee16fe"
      },
      "source": [
        "type(X_train)"
      ],
      "execution_count": 149,
      "outputs": [
        {
          "output_type": "execute_result",
          "data": {
            "text/plain": [
              "pandas.core.series.Series"
            ]
          },
          "metadata": {
            "tags": []
          },
          "execution_count": 149
        }
      ]
    },
    {
      "cell_type": "markdown",
      "metadata": {
        "id": "sozVN95T6eSb",
        "colab_type": "text"
      },
      "source": [
        "## Cleaning the data"
      ]
    },
    {
      "cell_type": "markdown",
      "metadata": {
        "id": "lFU0jpz47uJM",
        "colab_type": "text"
      },
      "source": [
        "Converting all words to lowercase and removing punctuations.\n",
        "Conducting Stemming (tastefully, tasty -> stem word called 'tasti')\n",
        "Removing Stop words"
      ]
    },
    {
      "cell_type": "code",
      "metadata": {
        "id": "d3K_ZLqM8eTi",
        "colab_type": "code",
        "colab": {
          "base_uri": "https://localhost:8080/",
          "height": 54
        },
        "outputId": "9b56c0d2-bf06-4fd0-c4b0-7b9a6f9a92d4"
      },
      "source": [
        "import string\n",
        "stemmer = PorterStemmer() # grain word\n",
        "from nltk.corpus import stopwords\n",
        "import nltk\n",
        "nltk.download('punkt')\n",
        "\n",
        "def stem_tokens(tokens, stemmer):\n",
        "    stemmed = []\n",
        "    for item in tokens:\n",
        "        stemmed.append(stemmer.stem(item)) # a list of the grain word of each row in the summary vector\n",
        "    return stemmed\n",
        "\n",
        "def tokenize(text):\n",
        "    tokens = nltk.word_tokenize(text) # splitting each summary to words\n",
        "    #tokens = [word for word in tokens if word not in stopwords.words('english')]\n",
        "    \n",
        "    stems = stem_tokens(tokens, stemmer) # each word to its grain word\n",
        "    return ' '.join(stems) # a list of the grain words of each summary\n",
        "\n",
        "intab = string.punctuation\n",
        "outtab = \"                                \"\n",
        "trantab = str.maketrans(intab, outtab) # a dictionary\n",
        "\n",
        "\n",
        "       "
      ],
      "execution_count": 150,
      "outputs": [
        {
          "output_type": "stream",
          "text": [
            "[nltk_data] Downloading package punkt to /root/nltk_data...\n",
            "[nltk_data]   Package punkt is already up-to-date!\n"
          ],
          "name": "stdout"
        }
      ]
    },
    {
      "cell_type": "markdown",
      "metadata": {
        "id": "hsqbuwQixpT4",
        "colab_type": "text"
      },
      "source": [
        "In first data cleaning (tokenize function) included stop-words removal, but the results were much worse. The reason for this could be that when people want to speak about what is or is not good, they use many small words like \"not\" for instance, and these words will typically be tagged as stop-words, and will be removed.\n",
        "we can overcome this with Bigram and Ngram techniques. Considering pair of words for creating dictionary is Bi-Gram , Tri-Gram means three consecutive words so as NGram.\n",
        "CountVectorizer has a parameter ngram_range : if assigned to (1,2) it considers Bi-Gram BoW. But this massively increases our dictionary size\n",
        "    "
      ]
    },
    {
      "cell_type": "code",
      "metadata": {
        "id": "WbsEQgr0-WZX",
        "colab_type": "code",
        "colab": {}
      },
      "source": [
        "#--- Training set\n",
        "from sklearn.feature_extraction.text import TfidfTransformer\n",
        "\n",
        "corpus = []\n",
        "for text in X_train: # X_train includes only summaries\n",
        "    text = text.lower() # lower case\n",
        "    text = text.translate(trantab) # mapping each punctuation to \" \" \n",
        "    text=tokenize(text) # splitting to words\n",
        "    corpus.append(text)\n",
        "    \n",
        "# print (corpus) # all summaries after processing, all sentances in a list\n",
        "\n",
        "\n"
      ],
      "execution_count": 0,
      "outputs": []
    },
    {
      "cell_type": "code",
      "metadata": {
        "id": "Q0j8EFYX30om",
        "colab_type": "code",
        "colab": {}
      },
      "source": [
        "#  count_vect = CountVectorizer(ngram_range=(1,2),stop_words = 'english')\n",
        "count_vect = CountVectorizer(ngram_range=(1,2)) \n",
        "\n",
        "X_train_counts = count_vect.fit_transform(corpus) # a vocabulary of the features in the train data\n",
        "        \n",
        "tfidf_transformer = TfidfTransformer()\n",
        "X_train_tfidf = tfidf_transformer.fit_transform(X_train_counts) # scale down the impact of tokens that occur very frequently in a given corpus and that are hence empirically less informative than features that occur in a small fraction of the training corpus\n",
        "#it makes sure that less importance is given to most frequent words and also considers less frequent words.Term Frequency is number of times a particular word(W) occurs in a review divided by totall number of words (Wr) in review. The term frequency value ranges from 0 to 1. Inverse Document Frequency is calculated as log(Total Number of Docs(N) / Number of Docs which contains particular word(n)). Here Docs referred as Reviews. TF-IDF is TF * IDF that is (W/Wr)*LOG(N/n)\n",
        "\n",
        "# print(corpus)\n",
        "\n",
        "# X_train_tfidf = TfidfVectorizer(ngram_range=(1,2),stop_words = 'english')\n",
        "# X_train_tfidf = TfidfVectorizer(ngram_range=(1,2))\n",
        "# X_train_tfidf = TfidfVectorizer()\n",
        "\n"
      ],
      "execution_count": 0,
      "outputs": []
    },
    {
      "cell_type": "code",
      "metadata": {
        "id": "hzQlgxo7BUTQ",
        "colab_type": "code",
        "colab": {}
      },
      "source": [
        "#--- Test set\n",
        "\n",
        "test_set = []\n",
        "for text in X_test:\n",
        "    text = text.lower()\n",
        "    text = text.translate(trantab)\n",
        "    text=tokenize(text)\n",
        "    test_set.append(text)\n",
        "\n",
        "X_new_counts = count_vect.transform(test_set) # without \"fit\"\n",
        "X_test_tfidf = tfidf_transformer.transform(X_new_counts) # without \"fit\""
      ],
      "execution_count": 0,
      "outputs": []
    },
    {
      "cell_type": "code",
      "metadata": {
        "id": "FgUGHbvjBsnE",
        "colab_type": "code",
        "colab": {
          "base_uri": "https://localhost:8080/",
          "height": 399
        },
        "outputId": "824f737b-f714-42ed-f5b1-87ee7ea88f49"
      },
      "source": [
        "from pandas import *\n",
        "df = DataFrame({'Before': X_train, 'After': corpus})\n",
        "print(df.head(20))\n",
        "\n",
        "prediction = dict() # creates a dictionary"
      ],
      "execution_count": 154,
      "outputs": [
        {
          "output_type": "stream",
          "text": [
            "                                                   Before                                              After\n",
            "138220                                      excellent tea                                          excel tea\n",
            "146116                                     Lavazza Coffee                                      lavazza coffe\n",
            "340819                                    Great Olive Oil                                     great oliv oil\n",
            "292720  Better than I thought it would be (be sure to ...  better than i thought it would be be sure to a...\n",
            "127256                                               YUK!                                                yuk\n",
            "8963                                  Buster loves these!                                  buster love these\n",
            "409422                          Best candy from childhood                          best candi from childhood\n",
            "155573  nice flavor, adds dimension and nutrition to s...       nice flavor add dimens and nutrit to smoothi\n",
            "208794                                Very nice loose tea                                 veri nice loos tea\n",
            "15449                                 great tea selection                                   great tea select\n",
            "437373                                    Ono Says it All                                     ono say it all\n",
            "113359                     LOVE Kashi Dark Chocolate Bars                         love kashi dark chocol bar\n",
            "389407                                             LUV IT                                             luv it\n",
            "286439                                            Foiled!                                               foil\n",
            "440667                               My NEW NUTELLA......                                     my new nutella\n",
            "534517                                      Beat the Beet                                      beat the beet\n",
            "497312  Artificial Ingredients and horrible after tast...  artifici ingredi and horribl after tast not a ...\n",
            "5410             Good variety-but may not be for everyone            good varieti but may not be for everyon\n",
            "84576                        Well worth sending away for!                           well worth send away for\n",
            "108511                   Pear- Organic Baby Food in pouch                      pear organ babi food in pouch\n"
          ],
          "name": "stdout"
        }
      ]
    },
    {
      "cell_type": "markdown",
      "metadata": {
        "id": "3hDtRRB4Mk6U",
        "colab_type": "text"
      },
      "source": [
        "# WordCloud"
      ]
    },
    {
      "cell_type": "code",
      "metadata": {
        "id": "sepZHUI-MkeJ",
        "colab_type": "code",
        "colab": {
          "base_uri": "https://localhost:8080/",
          "height": 279
        },
        "outputId": "638f0fc2-4a1a-4af2-dc9c-510222d89813"
      },
      "source": [
        "from wordcloud import WordCloud, STOPWORDS\n",
        "import matplotlib as mpl\n",
        "import matplotlib.pyplot as plt \n",
        "stopwords = set(STOPWORDS)\n",
        "\n",
        "#mpl.rcParams['figure.figsize']=(8.0,6.0)    #(6.0,4.0)\n",
        "mpl.rcParams['font.size']=12                #10 \n",
        "mpl.rcParams['savefig.dpi']=100             #72 \n",
        "mpl.rcParams['figure.subplot.bottom']=.1 \n",
        "\n",
        "\n",
        "def show_wordcloud(data, title = None):\n",
        "    wordcloud = WordCloud(\n",
        "        background_color='white',\n",
        "        stopwords=stopwords,\n",
        "        max_words=200,\n",
        "        max_font_size=40, \n",
        "        scale=3,\n",
        "        random_state=1 # chosen at random by flipping a coin; it was heads\n",
        "    ).generate(str(data))\n",
        "    \n",
        "    fig = plt.figure(1, figsize=(8, 8))\n",
        "    plt.axis('off')\n",
        "    if title: \n",
        "        fig.suptitle(title, fontsize=20)\n",
        "        fig.subplots_adjust(top=2.3)\n",
        "\n",
        "    plt.imshow(wordcloud)\n",
        "    plt.show()\n",
        "    \n",
        "show_wordcloud(corpus)\n"
      ],
      "execution_count": 155,
      "outputs": [
        {
          "output_type": "display_data",
          "data": {
            "image/png": "[encoded data removed]",
            "text/plain": [
              "<Figure size 576x576 with 1 Axes>"
            ]
          },
          "metadata": {
            "tags": []
          }
        }
      ]
    },
    {
      "cell_type": "markdown",
      "metadata": {
        "id": "0lz4F6zBCtOY",
        "colab_type": "text"
      },
      "source": [
        "## Multinomial Naïve Bayes \n"
      ]
    },
    {
      "cell_type": "code",
      "metadata": {
        "id": "TwPRJbWRCv3j",
        "colab_type": "code",
        "colab": {
          "base_uri": "https://localhost:8080/",
          "height": 54
        },
        "outputId": "bdb64947-c5dc-4b73-d494-8edd9ed2097c"
      },
      "source": [
        "# simple \"probabilistic classifiers\" based on applying Bayes' theorem with strong (naïve) independence assumptions between the features.\n",
        "# a popular (baseline) method for text categorization, the problem of judging documents as belonging to one category or the other\n",
        "# with word frequencies as the features\n",
        "\n",
        "from sklearn.naive_bayes import MultinomialNB \n",
        "\n",
        "model = MultinomialNB().fit(X_train_tfidf, y_train)\n",
        "prediction['Multinomial'] = model.predict(X_test_tfidf)\n",
        "print(prediction)"
      ],
      "execution_count": 156,
      "outputs": [
        {
          "output_type": "stream",
          "text": [
            "{'Multinomial': array(['negative', 'negative', 'negative', ..., 'negative', 'negative',\n",
            "       'positive'], dtype='<U8')}\n"
          ],
          "name": "stdout"
        }
      ]
    },
    {
      "cell_type": "markdown",
      "metadata": {
        "id": "jZjOIIqcIaxA",
        "colab_type": "text"
      },
      "source": [
        "## Bernoulli Naïve Bayes"
      ]
    },
    {
      "cell_type": "code",
      "metadata": {
        "id": "QTrzhxmBIa51",
        "colab_type": "code",
        "colab": {}
      },
      "source": [
        "from sklearn.naive_bayes import BernoulliNB\n",
        "model = BernoulliNB().fit(X_train_tfidf, y_train)\n",
        "prediction['Bernoulli'] = model.predict(X_test_tfidf)"
      ],
      "execution_count": 0,
      "outputs": []
    },
    {
      "cell_type": "markdown",
      "metadata": {
        "id": "EReLWdTEIa_-",
        "colab_type": "text"
      },
      "source": [
        "## Logistic regression"
      ]
    },
    {
      "cell_type": "code",
      "metadata": {
        "id": "pipDpwGZIbGX",
        "colab_type": "code",
        "colab": {}
      },
      "source": [
        "from sklearn import linear_model\n",
        "logreg = linear_model.LogisticRegression(C=1e5)\n",
        "logreg.fit(X_train_tfidf, y_train)\n",
        "prediction['Logistic'] = logreg.predict(X_test_tfidf)"
      ],
      "execution_count": 0,
      "outputs": []
    },
    {
      "cell_type": "markdown",
      "metadata": {
        "id": "xH-PmnYtJF-G",
        "colab_type": "text"
      },
      "source": [
        "## Comparing results"
      ]
    },
    {
      "cell_type": "markdown",
      "metadata": {
        "id": "lgTNLs6WJlfh",
        "colab_type": "text"
      },
      "source": [
        "AUC (Area Under The Curve) ROC (Receiver Operating Characteristics) curve for checking any classification model’s performance.\n",
        "Higher the AUC, better the model is at distinguishing between the classes. \n",
        "The curve with the highest AUC value will show our \"best\" algorithm."
      ]
    },
    {
      "cell_type": "code",
      "metadata": {
        "id": "yhmtmo_kIlsD",
        "colab_type": "code",
        "colab": {
          "base_uri": "https://localhost:8080/",
          "height": 310
        },
        "outputId": "b0744ea1-2ed8-4c75-c330-6777cac15347"
      },
      "source": [
        "from sklearn.metrics import roc_curve, auc\n",
        "\n",
        "def formatt(x):\n",
        "    if x == 'negative':\n",
        "        return 0\n",
        "    return 1\n",
        "vfunc = np.vectorize(formatt)\n",
        "\n",
        "cmp = 0\n",
        "colors = ['b', 'g', 'y', 'm', 'k']\n",
        "for model, predicted in prediction.items():\n",
        "    false_positive_rate, true_positive_rate, thresholds = roc_curve(y_test.map(formatt), vfunc(predicted))\n",
        "    roc_auc = auc(false_positive_rate, true_positive_rate)\n",
        "    plt.plot(false_positive_rate, true_positive_rate, colors[cmp], label='%s: AUC %0.2f'% (model,roc_auc))\n",
        "    cmp += 1\n",
        "\n",
        "plt.title('Classifiers comparaison with ROC')\n",
        "plt.legend(loc='lower right')\n",
        "plt.plot([0,1],[0,1],'r--')\n",
        "plt.xlim([-0.1,1.2])\n",
        "plt.ylim([-0.1,1.2])\n",
        "plt.ylabel('True Positive Rate')\n",
        "plt.xlabel('False Positive Rate')\n",
        "plt.show()"
      ],
      "execution_count": 159,
      "outputs": [
        {
          "output_type": "display_data",
          "data": {
            "image/png": "[encoded data removed]",
            "text/plain": [
              "<Figure size 432x288 with 1 Axes>"
            ]
          },
          "metadata": {
            "tags": []
          }
        }
      ]
    },
    {
      "cell_type": "markdown",
      "metadata": {
        "id": "2Ew3I4dwzbJT",
        "colab_type": "text"
      },
      "source": [
        "After plotting the ROC curve, it would appear that the Logistic regression method provides us with the best results\n",
        "We now focus on logistic regression, and vizualise the accuracy, recall and confusion matrix of this model:"
      ]
    },
    {
      "cell_type": "code",
      "metadata": {
        "id": "vUhFXu0Ozkr6",
        "colab_type": "code",
        "colab": {
          "base_uri": "https://localhost:8080/",
          "height": 181
        },
        "outputId": "2530ffd0-1497-45ed-a98d-5df28a99793e"
      },
      "source": [
        "from sklearn import metrics\n",
        "print(metrics.classification_report(y_test, prediction['Logistic'], target_names = [\"positive\", \"negative\"]))"
      ],
      "execution_count": 160,
      "outputs": [
        {
          "output_type": "stream",
          "text": [
            "              precision    recall  f1-score   support\n",
            "\n",
            "    positive       0.95      0.97      0.96     61433\n",
            "    negative       0.81      0.74      0.77     11402\n",
            "\n",
            "    accuracy                           0.93     72835\n",
            "   macro avg       0.88      0.85      0.87     72835\n",
            "weighted avg       0.93      0.93      0.93     72835\n",
            "\n"
          ],
          "name": "stdout"
        }
      ]
    },
    {
      "cell_type": "markdown",
      "metadata": {
        "id": "od0FA_Yx-XBf",
        "colab_type": "text"
      },
      "source": [
        "# ACC = 0.93"
      ]
    },
    {
      "cell_type": "code",
      "metadata": {
        "id": "iesT8SyG0TDI",
        "colab_type": "code",
        "colab": {
          "base_uri": "https://localhost:8080/",
          "height": 603
        },
        "outputId": "951e5d2e-0a3d-4a0e-d52f-f78c87246929"
      },
      "source": [
        "from sklearn.metrics import confusion_matrix\n",
        "def plot_confusion_matrix(cm, title='Confusion matrix', cmap=plt.cm.Blues):\n",
        "    plt.imshow(cm, interpolation='nearest', cmap=cmap)\n",
        "    plt.title(title)\n",
        "    plt.colorbar()\n",
        "    tick_marks = np.arange(len(set(Score)))\n",
        "    plt.xticks(tick_marks, set(Score), rotation=45)\n",
        "    plt.yticks(tick_marks, set(Score))\n",
        "    plt.tight_layout()\n",
        "    plt.ylabel('True label')\n",
        "    plt.xlabel('Predicted label')\n",
        "    \n",
        "# Compute confusion matrix\n",
        "cm = confusion_matrix(y_test, prediction['Logistic'])\n",
        "np.set_printoptions(precision=2)\n",
        "plt.figure()\n",
        "plot_confusion_matrix(cm)    \n",
        "\n",
        "cm_normalized = cm.astype('float') / cm.sum(axis=1)[:, np.newaxis]\n",
        "plt.figure()\n",
        "plot_confusion_matrix(cm_normalized, title='Normalized confusion matrix')\n",
        "\n",
        "plt.show()"
      ],
      "execution_count": 161,
      "outputs": [
        {
          "output_type": "display_data",
          "data": {
            "image/png": "[encoded data removed]",
            "text/plain": [
              "<Figure size 432x288 with 2 Axes>"
            ]
          },
          "metadata": {
            "tags": []
          }
        },
        {
          "output_type": "display_data",
          "data": {
            "image/png": "[encoded data removed]",
            "text/plain": [
              "<Figure size 432x288 with 2 Axes>"
            ]
          },
          "metadata": {
            "tags": []
          }
        }
      ]
    }
  ]
}